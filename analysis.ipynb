{
 "cells": [
  {
   "cell_type": "code",
   "execution_count": 75,
   "metadata": {},
   "outputs": [],
   "source": [
    "from tqdm import tqdm\n",
    "import pandas as pd\n",
    "import numpy as np\n",
    "\n",
    "from sklearn.feature_selection import SelectKBest, f_classif, VarianceThreshold\n",
    "from sklearn.linear_model import LogisticRegression\n",
    "from sklearn.ensemble import RandomForestClassifier, VotingClassifier\n",
    "from sklearn.model_selection import train_test_split, RandomizedSearchCV\n",
    "from sklearn.preprocessing import MinMaxScaler, LabelEncoder\n",
    "from sklearn.pipeline import Pipeline\n",
    "from sklearn.metrics import classification_report\n",
    "from sklearn.model_selection import RandomizedSearchCV, StratifiedKFold, train_test_split, cross_val_score, cross_validate\n",
    "from sklearn.svm import SVC\n",
    "from xgboost.sklearn import XGBClassifier\n",
    "import warnings \n",
    "warnings.filterwarnings(\"ignore\")\n",
    "NUM_TRIALS = 1000\n",
    "SEED = 42420\n",
    "scv = StratifiedKFold(n_splits=5)"
   ]
  },
  {
   "cell_type": "code",
   "execution_count": 2,
   "metadata": {},
   "outputs": [],
   "source": [
    "df = pd.read_csv('Crop_Location_Data_20221201.csv')\n",
    "s1_data = np.load('sar_data.npy') #Sentinel-2 data \n",
    "s2_data = np.load('sentinel2_data_train.npy')[:,:4,:]"
   ]
  },
  {
   "cell_type": "code",
   "execution_count": 54,
   "metadata": {},
   "outputs": [],
   "source": [
    "def prep_s2_data(data):\n",
    "    data[data == 0] = np.nan\n",
    "    red = data[:,0,:]\n",
    "    nir = data[:,3,:]\n",
    "    ndvi_mean_clean = (nir-red)/(nir+red)\n",
    "    ndvi = pd.DataFrame(ndvi_mean_clean)\n",
    "    return ndvi\n",
    "\n",
    "def prep_s1_data(data):\n",
    "    vv = data[:,0,:]\n",
    "    vh = data[:,1,:]\n",
    "    q = vh/vv\n",
    "    n = q*(q+3)\n",
    "    d = (q+1)**2\n",
    "    rvi = n/d #CALCULATION OF Radar Vegetation Index\n",
    "    if len(data.shape) == 3:\n",
    "        rvi = rvi.reshape(data.shape[0],1,data.shape[2])\n",
    "    else:\n",
    "        rvi = rvi.reshape(data.shape[0],1)\n",
    "    rvi = np.nan_to_num(rvi, nan=0)\n",
    "    new_data = np.concatenate((data,rvi),axis=1).copy()\n",
    "    return new_data\n",
    "\n",
    "proc_pipe = Pipeline([\n",
    "      ('scale', MinMaxScaler()), #Scale the data\n",
    "      ('thresh', VarianceThreshold()), #Remove colmns with constant features\n",
    "      ('select_feats', SelectKBest(f_classif, k=50)) #select top 50 features using f_classif strategy\n",
    "])\n",
    "\n",
    "def create_col_names(features=['VV','VH','RVI'],timesteps=52):\n",
    "    cols = [f'{feat}_{t}' for feat in features for t in range(0,timesteps)]\n",
    "    dicts = {t:c for t,c in zip(range(0,len(features)*timesteps),cols)}\n",
    "    return dicts\n",
    "\n",
    "def proc_pipeline(s1data,s2data):\n",
    "    data_s1 = s1data[:,:,:52].copy()\n",
    "    data_s1 = prep_s1_data(data_s1)\n",
    "    data_s1 = pd.DataFrame(data_s1.reshape(data_s1.shape[0],data_s1.shape[1]*data_s1.shape[2]))\n",
    "    if s2data is not None:\n",
    "        data_s2 = prep_s2_data(s2data)\n",
    "        complete_df = pd.concat([data_s1,data_s2],axis=1, ignore_index=True)\n",
    "        return complete_df\n",
    "    else:\n",
    "        return data_s1"
   ]
  },
  {
   "cell_type": "code",
   "execution_count": 55,
   "metadata": {},
   "outputs": [],
   "source": [
    "complete_df = proc_pipeline(s1_data, None)\n",
    "dicts = create_col_names()\n",
    "complete_df.rename(columns=dicts,inplace=True)"
   ]
  },
  {
   "cell_type": "code",
   "execution_count": 56,
   "metadata": {},
   "outputs": [
    {
     "data": {
      "text/html": [
       "<div>\n",
       "<style scoped>\n",
       "    .dataframe tbody tr th:only-of-type {\n",
       "        vertical-align: middle;\n",
       "    }\n",
       "\n",
       "    .dataframe tbody tr th {\n",
       "        vertical-align: top;\n",
       "    }\n",
       "\n",
       "    .dataframe thead th {\n",
       "        text-align: right;\n",
       "    }\n",
       "</style>\n",
       "<table border=\"1\" class=\"dataframe\">\n",
       "  <thead>\n",
       "    <tr style=\"text-align: right;\">\n",
       "      <th></th>\n",
       "      <th>VV_0</th>\n",
       "      <th>VV_1</th>\n",
       "      <th>VV_2</th>\n",
       "      <th>VV_3</th>\n",
       "      <th>VV_4</th>\n",
       "      <th>VV_5</th>\n",
       "      <th>VV_6</th>\n",
       "      <th>VV_7</th>\n",
       "      <th>VV_8</th>\n",
       "      <th>VV_9</th>\n",
       "      <th>...</th>\n",
       "      <th>RVI_42</th>\n",
       "      <th>RVI_43</th>\n",
       "      <th>RVI_44</th>\n",
       "      <th>RVI_45</th>\n",
       "      <th>RVI_46</th>\n",
       "      <th>RVI_47</th>\n",
       "      <th>RVI_48</th>\n",
       "      <th>RVI_49</th>\n",
       "      <th>RVI_50</th>\n",
       "      <th>RVI_51</th>\n",
       "    </tr>\n",
       "  </thead>\n",
       "  <tbody>\n",
       "    <tr>\n",
       "      <th>0</th>\n",
       "      <td>0.039149</td>\n",
       "      <td>0.034205</td>\n",
       "      <td>0.044161</td>\n",
       "      <td>0.029956</td>\n",
       "      <td>0.032765</td>\n",
       "      <td>0.026254</td>\n",
       "      <td>0.075706</td>\n",
       "      <td>0.084049</td>\n",
       "      <td>0.041761</td>\n",
       "      <td>0.026061</td>\n",
       "      <td>...</td>\n",
       "      <td>1.109153</td>\n",
       "      <td>1.120790</td>\n",
       "      <td>1.110529</td>\n",
       "      <td>1.104947</td>\n",
       "      <td>1.110555</td>\n",
       "      <td>1.115490</td>\n",
       "      <td>1.088580</td>\n",
       "      <td>1.094324</td>\n",
       "      <td>1.053526</td>\n",
       "      <td>1.064133</td>\n",
       "    </tr>\n",
       "    <tr>\n",
       "      <th>1</th>\n",
       "      <td>0.026118</td>\n",
       "      <td>0.036568</td>\n",
       "      <td>0.041516</td>\n",
       "      <td>0.030507</td>\n",
       "      <td>0.064327</td>\n",
       "      <td>0.026621</td>\n",
       "      <td>0.094764</td>\n",
       "      <td>0.021684</td>\n",
       "      <td>0.017601</td>\n",
       "      <td>0.005918</td>\n",
       "      <td>...</td>\n",
       "      <td>1.123149</td>\n",
       "      <td>1.124229</td>\n",
       "      <td>1.123904</td>\n",
       "      <td>1.109489</td>\n",
       "      <td>1.124946</td>\n",
       "      <td>1.096108</td>\n",
       "      <td>1.101996</td>\n",
       "      <td>1.124556</td>\n",
       "      <td>1.043715</td>\n",
       "      <td>1.021130</td>\n",
       "    </tr>\n",
       "    <tr>\n",
       "      <th>2</th>\n",
       "      <td>0.044205</td>\n",
       "      <td>0.031559</td>\n",
       "      <td>0.039120</td>\n",
       "      <td>0.018742</td>\n",
       "      <td>0.043604</td>\n",
       "      <td>0.026554</td>\n",
       "      <td>0.058810</td>\n",
       "      <td>0.076552</td>\n",
       "      <td>0.038845</td>\n",
       "      <td>0.017549</td>\n",
       "      <td>...</td>\n",
       "      <td>1.114845</td>\n",
       "      <td>1.119457</td>\n",
       "      <td>1.117225</td>\n",
       "      <td>1.112082</td>\n",
       "      <td>1.118335</td>\n",
       "      <td>1.118586</td>\n",
       "      <td>1.122740</td>\n",
       "      <td>1.118968</td>\n",
       "      <td>1.034430</td>\n",
       "      <td>1.035563</td>\n",
       "    </tr>\n",
       "    <tr>\n",
       "      <th>3</th>\n",
       "      <td>0.041290</td>\n",
       "      <td>0.032280</td>\n",
       "      <td>0.042852</td>\n",
       "      <td>0.038250</td>\n",
       "      <td>0.044909</td>\n",
       "      <td>0.034352</td>\n",
       "      <td>0.053895</td>\n",
       "      <td>0.052763</td>\n",
       "      <td>0.046522</td>\n",
       "      <td>0.022569</td>\n",
       "      <td>...</td>\n",
       "      <td>1.124986</td>\n",
       "      <td>1.124999</td>\n",
       "      <td>1.111018</td>\n",
       "      <td>1.097056</td>\n",
       "      <td>1.107514</td>\n",
       "      <td>1.059901</td>\n",
       "      <td>1.099912</td>\n",
       "      <td>1.113194</td>\n",
       "      <td>1.080739</td>\n",
       "      <td>1.032652</td>\n",
       "    </tr>\n",
       "    <tr>\n",
       "      <th>4</th>\n",
       "      <td>0.022037</td>\n",
       "      <td>0.028693</td>\n",
       "      <td>0.036434</td>\n",
       "      <td>0.033285</td>\n",
       "      <td>0.085088</td>\n",
       "      <td>0.041033</td>\n",
       "      <td>0.049838</td>\n",
       "      <td>0.008084</td>\n",
       "      <td>0.008059</td>\n",
       "      <td>0.006776</td>\n",
       "      <td>...</td>\n",
       "      <td>1.124550</td>\n",
       "      <td>1.117012</td>\n",
       "      <td>1.117879</td>\n",
       "      <td>1.116569</td>\n",
       "      <td>1.124795</td>\n",
       "      <td>1.114218</td>\n",
       "      <td>1.110528</td>\n",
       "      <td>1.118907</td>\n",
       "      <td>1.034686</td>\n",
       "      <td>1.038039</td>\n",
       "    </tr>\n",
       "    <tr>\n",
       "      <th>...</th>\n",
       "      <td>...</td>\n",
       "      <td>...</td>\n",
       "      <td>...</td>\n",
       "      <td>...</td>\n",
       "      <td>...</td>\n",
       "      <td>...</td>\n",
       "      <td>...</td>\n",
       "      <td>...</td>\n",
       "      <td>...</td>\n",
       "      <td>...</td>\n",
       "      <td>...</td>\n",
       "      <td>...</td>\n",
       "      <td>...</td>\n",
       "      <td>...</td>\n",
       "      <td>...</td>\n",
       "      <td>...</td>\n",
       "      <td>...</td>\n",
       "      <td>...</td>\n",
       "      <td>...</td>\n",
       "      <td>...</td>\n",
       "      <td>...</td>\n",
       "    </tr>\n",
       "    <tr>\n",
       "      <th>595</th>\n",
       "      <td>0.094441</td>\n",
       "      <td>0.099455</td>\n",
       "      <td>0.068456</td>\n",
       "      <td>0.089796</td>\n",
       "      <td>0.081265</td>\n",
       "      <td>0.057693</td>\n",
       "      <td>0.104882</td>\n",
       "      <td>0.119630</td>\n",
       "      <td>0.050866</td>\n",
       "      <td>0.095835</td>\n",
       "      <td>...</td>\n",
       "      <td>1.121684</td>\n",
       "      <td>1.110466</td>\n",
       "      <td>1.122813</td>\n",
       "      <td>1.123018</td>\n",
       "      <td>1.124222</td>\n",
       "      <td>1.112234</td>\n",
       "      <td>1.124525</td>\n",
       "      <td>1.119723</td>\n",
       "      <td>1.121672</td>\n",
       "      <td>1.114054</td>\n",
       "    </tr>\n",
       "    <tr>\n",
       "      <th>596</th>\n",
       "      <td>0.093986</td>\n",
       "      <td>0.114299</td>\n",
       "      <td>0.073228</td>\n",
       "      <td>0.104556</td>\n",
       "      <td>0.071013</td>\n",
       "      <td>0.053510</td>\n",
       "      <td>0.089211</td>\n",
       "      <td>0.069450</td>\n",
       "      <td>0.078184</td>\n",
       "      <td>0.109110</td>\n",
       "      <td>...</td>\n",
       "      <td>1.116106</td>\n",
       "      <td>1.110371</td>\n",
       "      <td>1.122510</td>\n",
       "      <td>1.120203</td>\n",
       "      <td>1.119964</td>\n",
       "      <td>1.124865</td>\n",
       "      <td>1.120409</td>\n",
       "      <td>1.124742</td>\n",
       "      <td>1.117305</td>\n",
       "      <td>1.120384</td>\n",
       "    </tr>\n",
       "    <tr>\n",
       "      <th>597</th>\n",
       "      <td>0.082631</td>\n",
       "      <td>0.099725</td>\n",
       "      <td>0.063362</td>\n",
       "      <td>0.078933</td>\n",
       "      <td>0.078904</td>\n",
       "      <td>0.067436</td>\n",
       "      <td>0.062394</td>\n",
       "      <td>0.063671</td>\n",
       "      <td>0.049033</td>\n",
       "      <td>0.099516</td>\n",
       "      <td>...</td>\n",
       "      <td>1.107018</td>\n",
       "      <td>1.120214</td>\n",
       "      <td>1.102492</td>\n",
       "      <td>1.121064</td>\n",
       "      <td>1.099339</td>\n",
       "      <td>1.124331</td>\n",
       "      <td>1.110506</td>\n",
       "      <td>1.124108</td>\n",
       "      <td>1.112376</td>\n",
       "      <td>1.107478</td>\n",
       "    </tr>\n",
       "    <tr>\n",
       "      <th>598</th>\n",
       "      <td>0.075545</td>\n",
       "      <td>0.095171</td>\n",
       "      <td>0.063125</td>\n",
       "      <td>0.097325</td>\n",
       "      <td>0.097000</td>\n",
       "      <td>0.068528</td>\n",
       "      <td>0.059935</td>\n",
       "      <td>0.081552</td>\n",
       "      <td>0.066601</td>\n",
       "      <td>0.072443</td>\n",
       "      <td>...</td>\n",
       "      <td>1.121916</td>\n",
       "      <td>1.115790</td>\n",
       "      <td>1.119424</td>\n",
       "      <td>1.119727</td>\n",
       "      <td>1.122595</td>\n",
       "      <td>1.124803</td>\n",
       "      <td>1.114920</td>\n",
       "      <td>1.119903</td>\n",
       "      <td>1.124957</td>\n",
       "      <td>1.117045</td>\n",
       "    </tr>\n",
       "    <tr>\n",
       "      <th>599</th>\n",
       "      <td>0.073731</td>\n",
       "      <td>0.085516</td>\n",
       "      <td>0.066394</td>\n",
       "      <td>0.076089</td>\n",
       "      <td>0.082614</td>\n",
       "      <td>0.065899</td>\n",
       "      <td>0.076963</td>\n",
       "      <td>0.068959</td>\n",
       "      <td>0.061457</td>\n",
       "      <td>0.088641</td>\n",
       "      <td>...</td>\n",
       "      <td>1.124798</td>\n",
       "      <td>1.106862</td>\n",
       "      <td>1.115347</td>\n",
       "      <td>1.117912</td>\n",
       "      <td>1.124975</td>\n",
       "      <td>1.107050</td>\n",
       "      <td>1.111161</td>\n",
       "      <td>1.120281</td>\n",
       "      <td>1.099800</td>\n",
       "      <td>1.114902</td>\n",
       "    </tr>\n",
       "  </tbody>\n",
       "</table>\n",
       "<p>600 rows × 156 columns</p>\n",
       "</div>"
      ],
      "text/plain": [
       "         VV_0      VV_1      VV_2      VV_3      VV_4      VV_5      VV_6  \\\n",
       "0    0.039149  0.034205  0.044161  0.029956  0.032765  0.026254  0.075706   \n",
       "1    0.026118  0.036568  0.041516  0.030507  0.064327  0.026621  0.094764   \n",
       "2    0.044205  0.031559  0.039120  0.018742  0.043604  0.026554  0.058810   \n",
       "3    0.041290  0.032280  0.042852  0.038250  0.044909  0.034352  0.053895   \n",
       "4    0.022037  0.028693  0.036434  0.033285  0.085088  0.041033  0.049838   \n",
       "..        ...       ...       ...       ...       ...       ...       ...   \n",
       "595  0.094441  0.099455  0.068456  0.089796  0.081265  0.057693  0.104882   \n",
       "596  0.093986  0.114299  0.073228  0.104556  0.071013  0.053510  0.089211   \n",
       "597  0.082631  0.099725  0.063362  0.078933  0.078904  0.067436  0.062394   \n",
       "598  0.075545  0.095171  0.063125  0.097325  0.097000  0.068528  0.059935   \n",
       "599  0.073731  0.085516  0.066394  0.076089  0.082614  0.065899  0.076963   \n",
       "\n",
       "         VV_7      VV_8      VV_9  ...    RVI_42    RVI_43    RVI_44  \\\n",
       "0    0.084049  0.041761  0.026061  ...  1.109153  1.120790  1.110529   \n",
       "1    0.021684  0.017601  0.005918  ...  1.123149  1.124229  1.123904   \n",
       "2    0.076552  0.038845  0.017549  ...  1.114845  1.119457  1.117225   \n",
       "3    0.052763  0.046522  0.022569  ...  1.124986  1.124999  1.111018   \n",
       "4    0.008084  0.008059  0.006776  ...  1.124550  1.117012  1.117879   \n",
       "..        ...       ...       ...  ...       ...       ...       ...   \n",
       "595  0.119630  0.050866  0.095835  ...  1.121684  1.110466  1.122813   \n",
       "596  0.069450  0.078184  0.109110  ...  1.116106  1.110371  1.122510   \n",
       "597  0.063671  0.049033  0.099516  ...  1.107018  1.120214  1.102492   \n",
       "598  0.081552  0.066601  0.072443  ...  1.121916  1.115790  1.119424   \n",
       "599  0.068959  0.061457  0.088641  ...  1.124798  1.106862  1.115347   \n",
       "\n",
       "       RVI_45    RVI_46    RVI_47    RVI_48    RVI_49    RVI_50    RVI_51  \n",
       "0    1.104947  1.110555  1.115490  1.088580  1.094324  1.053526  1.064133  \n",
       "1    1.109489  1.124946  1.096108  1.101996  1.124556  1.043715  1.021130  \n",
       "2    1.112082  1.118335  1.118586  1.122740  1.118968  1.034430  1.035563  \n",
       "3    1.097056  1.107514  1.059901  1.099912  1.113194  1.080739  1.032652  \n",
       "4    1.116569  1.124795  1.114218  1.110528  1.118907  1.034686  1.038039  \n",
       "..        ...       ...       ...       ...       ...       ...       ...  \n",
       "595  1.123018  1.124222  1.112234  1.124525  1.119723  1.121672  1.114054  \n",
       "596  1.120203  1.119964  1.124865  1.120409  1.124742  1.117305  1.120384  \n",
       "597  1.121064  1.099339  1.124331  1.110506  1.124108  1.112376  1.107478  \n",
       "598  1.119727  1.122595  1.124803  1.114920  1.119903  1.124957  1.117045  \n",
       "599  1.117912  1.124975  1.107050  1.111161  1.120281  1.099800  1.114902  \n",
       "\n",
       "[600 rows x 156 columns]"
      ]
     },
     "execution_count": 56,
     "metadata": {},
     "output_type": "execute_result"
    }
   ],
   "source": [
    "complete_df"
   ]
  },
  {
   "cell_type": "code",
   "execution_count": 57,
   "metadata": {},
   "outputs": [
    {
     "data": {
      "text/plain": [
       "(600, 50)"
      ]
     },
     "execution_count": 57,
     "metadata": {},
     "output_type": "execute_result"
    }
   ],
   "source": [
    "le = LabelEncoder()\n",
    "y = le.fit_transform(df['Class of Land'])\n",
    "X = proc_pipe.fit_transform(complete_df,y)\n",
    "X.shape"
   ]
  },
  {
   "cell_type": "code",
   "execution_count": 68,
   "metadata": {},
   "outputs": [],
   "source": [
    "sel_feats = proc_pipe.get_feature_names_out().tolist()"
   ]
  },
  {
   "cell_type": "code",
   "execution_count": 8,
   "metadata": {},
   "outputs": [
    {
     "data": {
      "text/plain": [
       "((330, 50), 165)"
      ]
     },
     "execution_count": 8,
     "metadata": {},
     "output_type": "execute_result"
    }
   ],
   "source": [
    "X_train, X_test, y_train, y_test=train_test_split(X,y,test_size=0.45,shuffle=True, random_state=807410395)\n",
    "X_train.shape, y_train.sum()"
   ]
  },
  {
   "cell_type": "code",
   "execution_count": 83,
   "metadata": {},
   "outputs": [
    {
     "data": {
      "text/plain": [
       "0.9878787878787879"
      ]
     },
     "execution_count": 83,
     "metadata": {},
     "output_type": "execute_result"
    }
   ],
   "source": [
    "clf = LogisticRegression(max_iter=5000)\n",
    "scv = StratifiedKFold(n_splits=5)\n",
    "cross_val_score(clf, X_train, y_train, cv=scv.split(X_train, y_train), scoring='accuracy').mean()"
   ]
  },
  {
   "cell_type": "code",
   "execution_count": 84,
   "metadata": {},
   "outputs": [],
   "source": [
    "model = clf.fit(X,y)\n",
    "coefs = model.coef_.tolist()[0]\n",
    "feat_imp = {c:i for c,i in zip(sel_feats,[abs(c) for c in coefs])}"
   ]
  },
  {
   "cell_type": "code",
   "execution_count": 85,
   "metadata": {},
   "outputs": [
    {
     "data": {
      "application/vnd.plotly.v1+json": {
       "config": {
        "plotlyServerURL": "https://plot.ly"
       },
       "data": [
        {
         "type": "bar",
         "x": [
          "RVI_15",
          "RVI_32",
          "RVI_28",
          "RVI_7",
          "RVI_16",
          "RVI_13",
          "RVI_8",
          "RVI_27",
          "RVI_10",
          "RVI_33",
          "RVI_9",
          "RVI_50",
          "RVI_45",
          "RVI_42",
          "RVI_43",
          "RVI_29",
          "VH_31",
          "VV_49",
          "RVI_44",
          "VH_5",
          "VV_50",
          "VH_20",
          "VV_13",
          "RVI_11",
          "VH_22",
          "VV_14",
          "VV_30",
          "VH_2",
          "VH_1",
          "RVI_26",
          "VV_29",
          "VV_2",
          "VH_19",
          "VV_24",
          "VH_47",
          "VH_13",
          "VV_1",
          "VH_36",
          "VV_33",
          "VV_43",
          "VV_42",
          "VV_31",
          "VH_21",
          "VV_32",
          "VV_47",
          "VH_39",
          "VV_15",
          "VV_16",
          "VH_38",
          "VH_37"
         ],
         "y": [
          2.328557396197509,
          2.3222407155910907,
          2.0637899116614613,
          2.0518918360644394,
          1.9926353239035992,
          1.9806901911176886,
          1.9479112312260853,
          1.9189347527415532,
          1.8367814881265077,
          1.5361051511684343,
          1.4613443390260454,
          1.3253553945376981,
          1.145768231433071,
          1.0500422648195604,
          1.038045270933315,
          0.7910670957955361,
          0.766427717933049,
          0.7412303599402869,
          0.7368877404886239,
          0.6995682610171682,
          0.6756558774854332,
          0.5155486811359319,
          0.513244219749252,
          0.4903218065671744,
          0.47979946540935714,
          0.431698142835738,
          0.4172467035136172,
          0.40148838736382003,
          0.39665093184787326,
          0.38373076730005495,
          0.3486732376171172,
          0.32733784277892386,
          0.29406242157523366,
          0.2936431194915798,
          0.2933452011137436,
          0.2917749535536282,
          0.24135646767727761,
          0.2257369754260029,
          0.22175470732506483,
          0.22063320054405616,
          0.2124514733891156,
          0.1617010360626124,
          0.13319873971162713,
          0.09832054983198969,
          0.0909572695521799,
          0.09034184772764366,
          0.07431689297548134,
          0.03877719735676318,
          0.014381932053432767,
          0.011993414145242009
         ]
        }
       ],
       "layout": {
        "template": {
         "data": {
          "bar": [
           {
            "error_x": {
             "color": "#2a3f5f"
            },
            "error_y": {
             "color": "#2a3f5f"
            },
            "marker": {
             "line": {
              "color": "#E5ECF6",
              "width": 0.5
             },
             "pattern": {
              "fillmode": "overlay",
              "size": 10,
              "solidity": 0.2
             }
            },
            "type": "bar"
           }
          ],
          "barpolar": [
           {
            "marker": {
             "line": {
              "color": "#E5ECF6",
              "width": 0.5
             },
             "pattern": {
              "fillmode": "overlay",
              "size": 10,
              "solidity": 0.2
             }
            },
            "type": "barpolar"
           }
          ],
          "carpet": [
           {
            "aaxis": {
             "endlinecolor": "#2a3f5f",
             "gridcolor": "white",
             "linecolor": "white",
             "minorgridcolor": "white",
             "startlinecolor": "#2a3f5f"
            },
            "baxis": {
             "endlinecolor": "#2a3f5f",
             "gridcolor": "white",
             "linecolor": "white",
             "minorgridcolor": "white",
             "startlinecolor": "#2a3f5f"
            },
            "type": "carpet"
           }
          ],
          "choropleth": [
           {
            "colorbar": {
             "outlinewidth": 0,
             "ticks": ""
            },
            "type": "choropleth"
           }
          ],
          "contour": [
           {
            "colorbar": {
             "outlinewidth": 0,
             "ticks": ""
            },
            "colorscale": [
             [
              0,
              "#0d0887"
             ],
             [
              0.1111111111111111,
              "#46039f"
             ],
             [
              0.2222222222222222,
              "#7201a8"
             ],
             [
              0.3333333333333333,
              "#9c179e"
             ],
             [
              0.4444444444444444,
              "#bd3786"
             ],
             [
              0.5555555555555556,
              "#d8576b"
             ],
             [
              0.6666666666666666,
              "#ed7953"
             ],
             [
              0.7777777777777778,
              "#fb9f3a"
             ],
             [
              0.8888888888888888,
              "#fdca26"
             ],
             [
              1,
              "#f0f921"
             ]
            ],
            "type": "contour"
           }
          ],
          "contourcarpet": [
           {
            "colorbar": {
             "outlinewidth": 0,
             "ticks": ""
            },
            "type": "contourcarpet"
           }
          ],
          "heatmap": [
           {
            "colorbar": {
             "outlinewidth": 0,
             "ticks": ""
            },
            "colorscale": [
             [
              0,
              "#0d0887"
             ],
             [
              0.1111111111111111,
              "#46039f"
             ],
             [
              0.2222222222222222,
              "#7201a8"
             ],
             [
              0.3333333333333333,
              "#9c179e"
             ],
             [
              0.4444444444444444,
              "#bd3786"
             ],
             [
              0.5555555555555556,
              "#d8576b"
             ],
             [
              0.6666666666666666,
              "#ed7953"
             ],
             [
              0.7777777777777778,
              "#fb9f3a"
             ],
             [
              0.8888888888888888,
              "#fdca26"
             ],
             [
              1,
              "#f0f921"
             ]
            ],
            "type": "heatmap"
           }
          ],
          "heatmapgl": [
           {
            "colorbar": {
             "outlinewidth": 0,
             "ticks": ""
            },
            "colorscale": [
             [
              0,
              "#0d0887"
             ],
             [
              0.1111111111111111,
              "#46039f"
             ],
             [
              0.2222222222222222,
              "#7201a8"
             ],
             [
              0.3333333333333333,
              "#9c179e"
             ],
             [
              0.4444444444444444,
              "#bd3786"
             ],
             [
              0.5555555555555556,
              "#d8576b"
             ],
             [
              0.6666666666666666,
              "#ed7953"
             ],
             [
              0.7777777777777778,
              "#fb9f3a"
             ],
             [
              0.8888888888888888,
              "#fdca26"
             ],
             [
              1,
              "#f0f921"
             ]
            ],
            "type": "heatmapgl"
           }
          ],
          "histogram": [
           {
            "marker": {
             "pattern": {
              "fillmode": "overlay",
              "size": 10,
              "solidity": 0.2
             }
            },
            "type": "histogram"
           }
          ],
          "histogram2d": [
           {
            "colorbar": {
             "outlinewidth": 0,
             "ticks": ""
            },
            "colorscale": [
             [
              0,
              "#0d0887"
             ],
             [
              0.1111111111111111,
              "#46039f"
             ],
             [
              0.2222222222222222,
              "#7201a8"
             ],
             [
              0.3333333333333333,
              "#9c179e"
             ],
             [
              0.4444444444444444,
              "#bd3786"
             ],
             [
              0.5555555555555556,
              "#d8576b"
             ],
             [
              0.6666666666666666,
              "#ed7953"
             ],
             [
              0.7777777777777778,
              "#fb9f3a"
             ],
             [
              0.8888888888888888,
              "#fdca26"
             ],
             [
              1,
              "#f0f921"
             ]
            ],
            "type": "histogram2d"
           }
          ],
          "histogram2dcontour": [
           {
            "colorbar": {
             "outlinewidth": 0,
             "ticks": ""
            },
            "colorscale": [
             [
              0,
              "#0d0887"
             ],
             [
              0.1111111111111111,
              "#46039f"
             ],
             [
              0.2222222222222222,
              "#7201a8"
             ],
             [
              0.3333333333333333,
              "#9c179e"
             ],
             [
              0.4444444444444444,
              "#bd3786"
             ],
             [
              0.5555555555555556,
              "#d8576b"
             ],
             [
              0.6666666666666666,
              "#ed7953"
             ],
             [
              0.7777777777777778,
              "#fb9f3a"
             ],
             [
              0.8888888888888888,
              "#fdca26"
             ],
             [
              1,
              "#f0f921"
             ]
            ],
            "type": "histogram2dcontour"
           }
          ],
          "mesh3d": [
           {
            "colorbar": {
             "outlinewidth": 0,
             "ticks": ""
            },
            "type": "mesh3d"
           }
          ],
          "parcoords": [
           {
            "line": {
             "colorbar": {
              "outlinewidth": 0,
              "ticks": ""
             }
            },
            "type": "parcoords"
           }
          ],
          "pie": [
           {
            "automargin": true,
            "type": "pie"
           }
          ],
          "scatter": [
           {
            "fillpattern": {
             "fillmode": "overlay",
             "size": 10,
             "solidity": 0.2
            },
            "type": "scatter"
           }
          ],
          "scatter3d": [
           {
            "line": {
             "colorbar": {
              "outlinewidth": 0,
              "ticks": ""
             }
            },
            "marker": {
             "colorbar": {
              "outlinewidth": 0,
              "ticks": ""
             }
            },
            "type": "scatter3d"
           }
          ],
          "scattercarpet": [
           {
            "marker": {
             "colorbar": {
              "outlinewidth": 0,
              "ticks": ""
             }
            },
            "type": "scattercarpet"
           }
          ],
          "scattergeo": [
           {
            "marker": {
             "colorbar": {
              "outlinewidth": 0,
              "ticks": ""
             }
            },
            "type": "scattergeo"
           }
          ],
          "scattergl": [
           {
            "marker": {
             "colorbar": {
              "outlinewidth": 0,
              "ticks": ""
             }
            },
            "type": "scattergl"
           }
          ],
          "scattermapbox": [
           {
            "marker": {
             "colorbar": {
              "outlinewidth": 0,
              "ticks": ""
             }
            },
            "type": "scattermapbox"
           }
          ],
          "scatterpolar": [
           {
            "marker": {
             "colorbar": {
              "outlinewidth": 0,
              "ticks": ""
             }
            },
            "type": "scatterpolar"
           }
          ],
          "scatterpolargl": [
           {
            "marker": {
             "colorbar": {
              "outlinewidth": 0,
              "ticks": ""
             }
            },
            "type": "scatterpolargl"
           }
          ],
          "scatterternary": [
           {
            "marker": {
             "colorbar": {
              "outlinewidth": 0,
              "ticks": ""
             }
            },
            "type": "scatterternary"
           }
          ],
          "surface": [
           {
            "colorbar": {
             "outlinewidth": 0,
             "ticks": ""
            },
            "colorscale": [
             [
              0,
              "#0d0887"
             ],
             [
              0.1111111111111111,
              "#46039f"
             ],
             [
              0.2222222222222222,
              "#7201a8"
             ],
             [
              0.3333333333333333,
              "#9c179e"
             ],
             [
              0.4444444444444444,
              "#bd3786"
             ],
             [
              0.5555555555555556,
              "#d8576b"
             ],
             [
              0.6666666666666666,
              "#ed7953"
             ],
             [
              0.7777777777777778,
              "#fb9f3a"
             ],
             [
              0.8888888888888888,
              "#fdca26"
             ],
             [
              1,
              "#f0f921"
             ]
            ],
            "type": "surface"
           }
          ],
          "table": [
           {
            "cells": {
             "fill": {
              "color": "#EBF0F8"
             },
             "line": {
              "color": "white"
             }
            },
            "header": {
             "fill": {
              "color": "#C8D4E3"
             },
             "line": {
              "color": "white"
             }
            },
            "type": "table"
           }
          ]
         },
         "layout": {
          "annotationdefaults": {
           "arrowcolor": "#2a3f5f",
           "arrowhead": 0,
           "arrowwidth": 1
          },
          "autotypenumbers": "strict",
          "coloraxis": {
           "colorbar": {
            "outlinewidth": 0,
            "ticks": ""
           }
          },
          "colorscale": {
           "diverging": [
            [
             0,
             "#8e0152"
            ],
            [
             0.1,
             "#c51b7d"
            ],
            [
             0.2,
             "#de77ae"
            ],
            [
             0.3,
             "#f1b6da"
            ],
            [
             0.4,
             "#fde0ef"
            ],
            [
             0.5,
             "#f7f7f7"
            ],
            [
             0.6,
             "#e6f5d0"
            ],
            [
             0.7,
             "#b8e186"
            ],
            [
             0.8,
             "#7fbc41"
            ],
            [
             0.9,
             "#4d9221"
            ],
            [
             1,
             "#276419"
            ]
           ],
           "sequential": [
            [
             0,
             "#0d0887"
            ],
            [
             0.1111111111111111,
             "#46039f"
            ],
            [
             0.2222222222222222,
             "#7201a8"
            ],
            [
             0.3333333333333333,
             "#9c179e"
            ],
            [
             0.4444444444444444,
             "#bd3786"
            ],
            [
             0.5555555555555556,
             "#d8576b"
            ],
            [
             0.6666666666666666,
             "#ed7953"
            ],
            [
             0.7777777777777778,
             "#fb9f3a"
            ],
            [
             0.8888888888888888,
             "#fdca26"
            ],
            [
             1,
             "#f0f921"
            ]
           ],
           "sequentialminus": [
            [
             0,
             "#0d0887"
            ],
            [
             0.1111111111111111,
             "#46039f"
            ],
            [
             0.2222222222222222,
             "#7201a8"
            ],
            [
             0.3333333333333333,
             "#9c179e"
            ],
            [
             0.4444444444444444,
             "#bd3786"
            ],
            [
             0.5555555555555556,
             "#d8576b"
            ],
            [
             0.6666666666666666,
             "#ed7953"
            ],
            [
             0.7777777777777778,
             "#fb9f3a"
            ],
            [
             0.8888888888888888,
             "#fdca26"
            ],
            [
             1,
             "#f0f921"
            ]
           ]
          },
          "colorway": [
           "#636efa",
           "#EF553B",
           "#00cc96",
           "#ab63fa",
           "#FFA15A",
           "#19d3f3",
           "#FF6692",
           "#B6E880",
           "#FF97FF",
           "#FECB52"
          ],
          "font": {
           "color": "#2a3f5f"
          },
          "geo": {
           "bgcolor": "white",
           "lakecolor": "white",
           "landcolor": "#E5ECF6",
           "showlakes": true,
           "showland": true,
           "subunitcolor": "white"
          },
          "hoverlabel": {
           "align": "left"
          },
          "hovermode": "closest",
          "mapbox": {
           "style": "light"
          },
          "paper_bgcolor": "white",
          "plot_bgcolor": "#E5ECF6",
          "polar": {
           "angularaxis": {
            "gridcolor": "white",
            "linecolor": "white",
            "ticks": ""
           },
           "bgcolor": "#E5ECF6",
           "radialaxis": {
            "gridcolor": "white",
            "linecolor": "white",
            "ticks": ""
           }
          },
          "scene": {
           "xaxis": {
            "backgroundcolor": "#E5ECF6",
            "gridcolor": "white",
            "gridwidth": 2,
            "linecolor": "white",
            "showbackground": true,
            "ticks": "",
            "zerolinecolor": "white"
           },
           "yaxis": {
            "backgroundcolor": "#E5ECF6",
            "gridcolor": "white",
            "gridwidth": 2,
            "linecolor": "white",
            "showbackground": true,
            "ticks": "",
            "zerolinecolor": "white"
           },
           "zaxis": {
            "backgroundcolor": "#E5ECF6",
            "gridcolor": "white",
            "gridwidth": 2,
            "linecolor": "white",
            "showbackground": true,
            "ticks": "",
            "zerolinecolor": "white"
           }
          },
          "shapedefaults": {
           "line": {
            "color": "#2a3f5f"
           }
          },
          "ternary": {
           "aaxis": {
            "gridcolor": "white",
            "linecolor": "white",
            "ticks": ""
           },
           "baxis": {
            "gridcolor": "white",
            "linecolor": "white",
            "ticks": ""
           },
           "bgcolor": "#E5ECF6",
           "caxis": {
            "gridcolor": "white",
            "linecolor": "white",
            "ticks": ""
           }
          },
          "title": {
           "x": 0.05
          },
          "xaxis": {
           "automargin": true,
           "gridcolor": "white",
           "linecolor": "white",
           "ticks": "",
           "title": {
            "standoff": 15
           },
           "zerolinecolor": "white",
           "zerolinewidth": 2
          },
          "yaxis": {
           "automargin": true,
           "gridcolor": "white",
           "linecolor": "white",
           "ticks": "",
           "title": {
            "standoff": 15
           },
           "zerolinecolor": "white",
           "zerolinewidth": 2
          }
         }
        },
        "title": {
         "text": "Feature Importance"
        },
        "xaxis": {
         "title": {
          "text": "Feature"
         }
        },
        "yaxis": {
         "title": {
          "text": "Importance Score"
         }
        }
       }
      }
     },
     "metadata": {},
     "output_type": "display_data"
    }
   ],
   "source": [
    "import plotly.graph_objects as go\n",
    "# Sorting feature importance dictionary by values\n",
    "sorted_features = sorted(feat_imp.items(), key=lambda x: x[1], reverse=True)\n",
    "\n",
    "# Extracting feature names and importance scores\n",
    "features = [item[0] for item in sorted_features]\n",
    "importance_scores = [item[1] for item in sorted_features]\n",
    "\n",
    "# Creating a bar plot\n",
    "fig = go.Figure(data=[go.Bar(x=features, y=importance_scores)])\n",
    "\n",
    "# Adding title and labels\n",
    "fig.update_layout(title='Feature Importance', xaxis_title='Feature', yaxis_title='Importance Score')\n",
    "\n",
    "# Show plot\n",
    "fig.show()"
   ]
  },
  {
   "cell_type": "code",
   "execution_count": 8,
   "metadata": {},
   "outputs": [],
   "source": [
    "#NESTED CV STRATEGY TO SCORE THE VALIDATION SET\n",
    "def nested_cv(\n",
    "    pipe,\n",
    "    X,\n",
    "    y,\n",
    "    grid,\n",
    "    splits,\n",
    "    iters=5,\n",
    "    seed=42,\n",
    "    metrics=\"accuracy\",\n",
    "):\n",
    "    inner_cv = StratifiedKFold(n_splits=splits, shuffle=True, random_state=seed)\n",
    "    outer_cv = StratifiedKFold(n_splits=splits, shuffle=True, random_state=seed)\n",
    "    clf = RandomizedSearchCV(estimator=pipe, n_iter=iters, param_distributions=grid, cv=inner_cv, \n",
    "                            scoring=metrics, n_jobs=-1, random_state=SEED)\n",
    "    scores = cross_validate(clf, X=X, y=y, cv=outer_cv, scoring=metrics, return_estimator=True)\n",
    "    model_params = [e.best_estimator_ for e in scores[\"estimator\"]]\n",
    "    return {\n",
    "        \"model_params\": model_params,\n",
    "        \"accuracy\": scores[\"test_score\"],\n",
    "    }\n",
    "\n",
    "#FUNCTION TO RUN MULTIPLE NESTED CV TRIALS\n",
    "def run_cvs(pipe, X, y, grid, splits=10, iters=5, metrics = 'accuracy'):\n",
    "    cv_results = pd.DataFrame()\n",
    "    row_res = {}\n",
    "\n",
    "    for i in tqdm(range(NUM_TRIALS)): #ITERATE THROUGH NUMBER OF TRIALS\n",
    "        row_res[\"seed\"] = i\n",
    "        cv_res = nested_cv(pipe, X, y, grid=grid, splits=splits, iters=iters, seed=i, metrics=metrics)\n",
    "        row_res.update(cv_res)\n",
    "        temp_res = pd.DataFrame(row_res, columns=list(row_res.keys()))\n",
    "        cv_results = pd.concat([cv_results, temp_res], axis=0, ignore_index=True)\n",
    "        row_res = {}\n",
    "    return cv_results\n",
    "\n",
    "#FUNCTION TO FIND THE WORST PERFORMING TRIAL OUT OF ALL THE TRIALS\n",
    "def find_worst_seeds(res, topk=5):\n",
    "    seeds = []\n",
    "    for seed in res.groupby('seed')['accuracy'].mean().sort_values(ascending=True).index[0:topk].values:\n",
    "        seeds.append(seed)\n",
    "    return seeds"
   ]
  },
  {
   "cell_type": "code",
   "execution_count": 9,
   "metadata": {},
   "outputs": [],
   "source": [
    "#BLOCK TO FIND THE WORST PERFORMING SEED ON THE DATA\n",
    "# lr_params = {\n",
    "#     \"fit_intercept\": [True, False],\n",
    "#     \"C\": np.linspace(0.01, 0.5, 40, dtype=np.float32),\n",
    "#     # \"l1\": np.linspace(0.1, 1.0, 40, dtype=np.float32),\n",
    "#     \"solver\": [\"lbfgs\"],\n",
    "#     \"penalty\": [\"l2\"],\n",
    "# }\n",
    "# clf = LogisticRegression(max_iter=200,random_state=420)\n",
    "# res_ridge = run_cvs(clf, X_train, y_train, lr_params, splits=5, iters=1, metrics='f1_weighted')\n",
    "# seeds = find_worst_seeds(res_ridge, topk=10)"
   ]
  },
  {
   "cell_type": "code",
   "execution_count": 10,
   "metadata": {},
   "outputs": [],
   "source": [
    "seeds = [431]#[431, 240, 139, 22, 364, 295, 589, 720, 85, 495]"
   ]
  },
  {
   "cell_type": "code",
   "execution_count": 11,
   "metadata": {},
   "outputs": [],
   "source": [
    "#MAKING VOTING CLASSIFIER USING A LIST OF MODELS\n",
    "def make_vc(search_list, name_list):\n",
    "    estimator_list = [(str(n), s) for n,s in zip(name_list, search_list)]\n",
    "    return VotingClassifier(estimators=estimator_list, voting='soft')\n",
    "\n",
    "def evaluate(clf):\n",
    "    clf.fit(X_train, y_train)\n",
    "    predictions = clf.predict(X_test)\n",
    "    print(classification_report(y_test,predictions))\n",
    "\n",
    "def predict_submission(clf, use_s2=False):\n",
    "    testdfs1 = np.load('sar_data_test.npy')\n",
    "    if use_s2:\n",
    "        testdfs2 = np.load('sentinel2_data_test.npy')\n",
    "        proc_testdf = proc_pipeline(testdfs1,testdfs2)\n",
    "    else:\n",
    "        proc_testdf = proc_pipeline(testdfs1,None)\n",
    "    X_sub = proc_pipe.transform(proc_testdf)\n",
    "    clf.fit(X,y)\n",
    "    submission_predictions = clf.predict(X_sub)\n",
    "    submission_probs = clf.predict_proba(X_sub)\n",
    "    return submission_predictions, submission_probs\n",
    "\n",
    "#THE FUNCTION TO CREATE VOTING CLASSIFIER BASED ON PERFORMANCE ON WORST PERFORMING SEED\n",
    "def score_worst_seeds(clf, params, X, y, seeds, iters=100):\n",
    "    model_ls = []\n",
    "    valid_scores = []\n",
    "\n",
    "    for seed in tqdm(seeds):\n",
    "        cv_res = nested_cv(clf, X, y, grid=params, splits=5, iters=iters, seed=seed, metrics='f1_weighted')\n",
    "        cv_models = cv_res['model_params']\n",
    "        model = make_vc(cv_models, list([i for i in range(0,5)]))\n",
    "        score = cv_res['accuracy'].mean()\n",
    "        model_ls.append(model)\n",
    "        valid_scores.append(score*100)\n",
    "\n",
    "    print(f'The mean accuracy for the {len(seeds)} worst seeds is {np.mean(valid_scores)} and the std. dev. is {np.std(valid_scores)}')\n",
    "    return make_vc(model_ls, seeds)"
   ]
  },
  {
   "cell_type": "code",
   "execution_count": 12,
   "metadata": {},
   "outputs": [
    {
     "name": "stderr",
     "output_type": "stream",
     "text": [
      "  0%|          | 0/1 [00:00<?, ?it/s]"
     ]
    },
    {
     "name": "stderr",
     "output_type": "stream",
     "text": [
      "100%|██████████| 1/1 [00:18<00:00, 18.83s/it]"
     ]
    },
    {
     "name": "stdout",
     "output_type": "stream",
     "text": [
      "The mean accuracy for the 1 worst seeds is 99.39380022962112 and the std. dev. is 0.0\n"
     ]
    },
    {
     "name": "stderr",
     "output_type": "stream",
     "text": [
      "\n"
     ]
    }
   ],
   "source": [
    "rf_params = {\n",
    "    \"n_estimators\": np.linspace(50, 100, 5, dtype=np.int16),\n",
    "    \"max_depth\": np.linspace(2, 10, 10, dtype=np.int16),\n",
    "    \"min_samples_split\": np.linspace(2, 10, 10, dtype=np.int16),\n",
    "    \"min_samples_leaf\": np.linspace(2, 10, 10, dtype=np.int16),\n",
    "    \"criterion\": [\"gini\", \"entropy\", \"log_loss\"],\n",
    "    \"ccp_alpha\": np.linspace(0.0, 5.0, 20, dtype=np.float16),\n",
    "}\n",
    "clf = RandomForestClassifier(random_state=420)\n",
    "model_rf = score_worst_seeds(clf, rf_params, X_train, y_train, seeds)"
   ]
  },
  {
   "cell_type": "code",
   "execution_count": 13,
   "metadata": {},
   "outputs": [
    {
     "name": "stderr",
     "output_type": "stream",
     "text": [
      "100%|██████████| 1/1 [00:06<00:00,  6.77s/it]"
     ]
    },
    {
     "name": "stdout",
     "output_type": "stream",
     "text": [
      "The mean accuracy for the 1 worst seeds is 99.08902691511386 and the std. dev. is 0.0\n"
     ]
    },
    {
     "name": "stderr",
     "output_type": "stream",
     "text": [
      "\n"
     ]
    }
   ],
   "source": [
    "svm_params = {\n",
    "    \"kernel\": ['rbf'],\n",
    "    \"C\": np.linspace(0.001, 2.0, 30, dtype=np.float32),\n",
    "    \"gamma\": np.linspace(0.01, 3.0, 30, dtype=np.float16),\n",
    "}\n",
    "clf = SVC(random_state=420, probability=True)\n",
    "model_svm = score_worst_seeds(clf, svm_params, X_train, y_train, seeds, iters=200)"
   ]
  },
  {
   "cell_type": "markdown",
   "metadata": {},
   "source": [
    "### Create ensemble of random forest and svm"
   ]
  },
  {
   "cell_type": "code",
   "execution_count": 14,
   "metadata": {},
   "outputs": [],
   "source": [
    "search_list = [model_rf,model_svm]\n",
    "name_list = ['rf', 'svm']\n",
    "vclf = make_vc(search_list, name_list)"
   ]
  },
  {
   "cell_type": "markdown",
   "metadata": {},
   "source": [
    "### Measure performance on hold-out set"
   ]
  },
  {
   "cell_type": "code",
   "execution_count": 15,
   "metadata": {},
   "outputs": [
    {
     "name": "stdout",
     "output_type": "stream",
     "text": [
      "              precision    recall  f1-score   support\n",
      "\n",
      "           0       1.00      1.00      1.00       135\n",
      "           1       1.00      1.00      1.00       135\n",
      "\n",
      "    accuracy                           1.00       270\n",
      "   macro avg       1.00      1.00      1.00       270\n",
      "weighted avg       1.00      1.00      1.00       270\n",
      "\n"
     ]
    }
   ],
   "source": [
    "evaluate(vclf)"
   ]
  },
  {
   "cell_type": "markdown",
   "metadata": {},
   "source": [
    "### Prediction on submission data"
   ]
  },
  {
   "cell_type": "code",
   "execution_count": 16,
   "metadata": {},
   "outputs": [],
   "source": [
    "submission = pd.read_csv('submission1.csv')\n",
    "submission_predictions, _ = predict_submission(vclf, use_s2=False)\n",
    "submission['target'] = submission_predictions.tolist()\n",
    "submission.target = le.inverse_transform(submission.target)\n",
    "submission.to_csv('submission_model.csv', index=False)"
   ]
  },
  {
   "cell_type": "code",
   "execution_count": null,
   "metadata": {},
   "outputs": [],
   "source": []
  }
 ],
 "metadata": {
  "kernelspec": {
   "display_name": "Python 3",
   "language": "python",
   "name": "python3"
  },
  "language_info": {
   "codemirror_mode": {
    "name": "ipython",
    "version": 3
   },
   "file_extension": ".py",
   "mimetype": "text/x-python",
   "name": "python",
   "nbconvert_exporter": "python",
   "pygments_lexer": "ipython3",
   "version": "3.11.0"
  }
 },
 "nbformat": 4,
 "nbformat_minor": 2
}
